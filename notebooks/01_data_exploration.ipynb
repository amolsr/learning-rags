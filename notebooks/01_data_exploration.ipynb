{
  "cells": [
    {
      "cell_type": "markdown",
      "metadata": {},
      "source": [
        "# Data Exploration Notebook\n",
        "\n",
        "This notebook explores the raw data and demonstrates the preprocessing pipeline.\n"
      ]
    },
    {
      "cell_type": "code",
      "execution_count": null,
      "metadata": {},
      "outputs": [],
      "source": [
        "import sys\n",
        "import os\n",
        "sys.path.append('../src')\n",
        "\n",
        "import pandas as pd\n",
        "import matplotlib.pyplot as plt\n",
        "import seaborn as sns\n",
        "from pathlib import Path\n",
        "\n",
        "from preprocess import load_documents, split_documents\n",
        "from config import config\n"
      ]
    },
    {
      "cell_type": "markdown",
      "metadata": {},
      "source": [
        "## 1. Explore Raw Data\n"
      ]
    },
    {
      "cell_type": "code",
      "execution_count": null,
      "metadata": {},
      "outputs": [],
      "source": [
        "# Check what files we have in the raw data directory\n",
        "raw_data_path = Path(config.raw_data_dir)\n",
        "print(f\"Raw data directory: {raw_data_path}\")\n",
        "print(f\"Directory exists: {raw_data_path.exists()}\")\n",
        "\n",
        "if raw_data_path.exists():\n",
        "    # Count files by extension\n",
        "    file_counts = {}\n",
        "    total_files = 0\n",
        "    \n",
        "    for file_path in raw_data_path.rglob('*'):\n",
        "        if file_path.is_file():\n",
        "            ext = file_path.suffix.lower()\n",
        "            file_counts[ext] = file_counts.get(ext, 0) + 1\n",
        "            total_files += 1\n",
        "    \n",
        "    print(f\"\\nTotal files found: {total_files}\")\n",
        "    print(\"\\nFiles by extension:\")\n",
        "    for ext, count in sorted(file_counts.items()):\n",
        "        print(f\"  {ext or 'no extension'}: {count}\")\n"
      ]
    }
  ],
  "metadata": {
    "language_info": {
      "name": "python"
    }
  },
  "nbformat": 4,
  "nbformat_minor": 2
}
