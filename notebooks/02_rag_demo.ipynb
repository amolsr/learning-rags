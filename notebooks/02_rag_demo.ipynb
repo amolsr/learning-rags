{
  "cells": [
    {
      "cell_type": "markdown",
      "metadata": {},
      "source": [
        "# RAG Demo Notebook\n",
        "\n",
        "This notebook demonstrates the complete RAG pipeline with question answering and question generation.\n"
      ]
    },
    {
      "cell_type": "code",
      "execution_count": null,
      "metadata": {},
      "outputs": [],
      "source": [
        "import sys\n",
        "import os\n",
        "sys.path.append('../src')\n",
        "\n",
        "from rag_pipeline import create_rag_pipeline\n",
        "from config import config\n",
        "import logging\n",
        "\n",
        "# Set up logging\n",
        "logging.basicConfig(level=logging.INFO)\n",
        "logger = logging.getLogger(__name__)\n"
      ]
    },
    {
      "cell_type": "markdown",
      "metadata": {},
      "source": [
        "## 1. Initialize RAG Pipeline\n"
      ]
    },
    {
      "cell_type": "code",
      "execution_count": null,
      "metadata": {},
      "outputs": [],
      "source": [
        "# Create RAG pipeline\n",
        "print(\"Initializing RAG pipeline...\")\n",
        "rag = create_rag_pipeline()\n",
        "\n",
        "print(\"Loading and processing documents...\")\n",
        "documents = rag.load_and_process_documents()\n",
        "\n",
        "print(f\"Successfully processed {len(documents)} documents\")\n",
        "print(\"RAG pipeline is ready!\")\n"
      ]
    },
    {
      "cell_type": "markdown",
      "metadata": {},
      "source": [
        "## 2. Test Question Answering\n"
      ]
    },
    {
      "cell_type": "code",
      "execution_count": null,
      "metadata": {},
      "outputs": [],
      "source": [
        "# Test questions\n",
        "test_questions = [\n",
        "    \"What is blockchain?\",\n",
        "    \"How does Ethereum work?\",\n",
        "    \"What are the main features of Java collections?\",\n",
        "    \"Explain dynamic programming concepts\",\n",
        "    \"What is Docker and how is it used?\"\n",
        "]\n",
        "\n",
        "print(\"Testing question answering...\")\n",
        "print(\"=\" * 50)\n",
        "\n",
        "for i, question in enumerate(test_questions, 1):\n",
        "    print(f\"\\nQuestion {i}: {question}\")\n",
        "    try:\n",
        "        answer = rag.ask_question(question)\n",
        "        print(f\"Answer: {answer}\")\n",
        "    except Exception as e:\n",
        "        print(f\"Error: {e}\")\n",
        "    print(\"-\" * 50)\n"
      ]
    },
    {
      "cell_type": "markdown",
      "metadata": {},
      "source": [
        "## 3. Interactive Question Answering\n"
      ]
    },
    {
      "cell_type": "code",
      "execution_count": null,
      "metadata": {},
      "outputs": [],
      "source": [
        "# Interactive Q&A session\n",
        "def interactive_qa():\n",
        "    print(\"Interactive Q&A Session\")\n",
        "    print(\"Type 'exit' to quit, 'generate' to create questions from content\")\n",
        "    print(\"=\" * 50)\n",
        "    \n",
        "    while True:\n",
        "        question = input(\"\\nYour question: \").strip()\n",
        "        \n",
        "        if question.lower() in ['exit', 'quit']:\n",
        "            print(\"Goodbye!\")\n",
        "            break\n",
        "        elif question.lower() == 'generate':\n",
        "            try:\n",
        "                num_questions = input(\"How many questions to generate? (default: 5): \").strip()\n",
        "                num_questions = int(num_questions) if num_questions else 5\n",
        "                \n",
        "                print(f\"Generating {num_questions} questions...\")\n",
        "                questions = rag.generate_questions_from_content(num_questions)\n",
        "                \n",
        "                if questions:\n",
        "                    print(f\"\\nGenerated {len(questions)} questions:\")\n",
        "                    for i, q in enumerate(questions, 1):\n",
        "                        print(f\"\\n{i}. {q['question']}\")\n",
        "                        print(f\"   A) {q['one']}\")\n",
        "                        print(f\"   B) {q['two']}\")\n",
        "                        print(f\"   C) {q['three']}\")\n",
        "                        print(f\"   D) {q['four']}\")\n",
        "                        print(f\"   Correct: {q['correct']}\")\n",
        "                        print(f\"   Category: {q['category']}\")\n",
        "                    \n",
        "                    # Save questions\n",
        "                    rag.save_questions_to_json(questions)\n",
        "                    print(f\"\\nQuestions saved to {config.questions_file}\")\n",
        "                else:\n",
        "                    print(\"No questions were generated.\")\n",
        "            except Exception as e:\n",
        "                print(f\"Error generating questions: {e}\")\n",
        "        elif question:\n",
        "            try:\n",
        "                answer = rag.ask_question(question)\n",
        "                print(f\"\\nAnswer: {answer}\")\n",
        "            except Exception as e:\n",
        "                print(f\"Error: {e}\")\n",
        "\n",
        "# Uncomment the line below to start interactive session\n",
        "# interactive_qa()\n"
      ]
    }
  ],
  "metadata": {
    "language_info": {
      "name": "python"
    }
  },
  "nbformat": 4,
  "nbformat_minor": 2
}
